{
 "cells": [
  {
   "cell_type": "markdown",
   "metadata": {},
   "source": [
    "# ML004.03: Simple CNN\n",
    "\n",
    "In this script, we build out a machine learning classifier. We use the feature extractor from the CaracalRT trial, as this is an efficient way of converting a wavefile to a small spectral image. \n",
    "\n",
    "This is a teeny tiny CNN - the aim is to have as few parameters as possible so that it can be efficiently executed on the microcontroller. Generally, if the number of parameters < 1k, then it should be implementable and runnable in real-time. Beyond this will require much more thinking/optimization/pain/suffering.\n"
   ]
  },
  {
   "cell_type": "code",
   "execution_count": 1,
   "metadata": {},
   "outputs": [],
   "source": [
    "#DATASET_DIRECTORY = \"C:\\\\CloudData\\\\2024\\\\Nepal\\\\N001\\\\Dataset\"\n",
    "DATASET_DIRECTORY = \"C:\\\\Users\\\\Amogh\\\\OneDrive - University of Cambridge\\\\Programming-New\\\\CaracalChitalDetector\\\\cnn\\\\output\"\n",
    "output_prefix = \"03MLouput20240811v001.keras\""
   ]
  },
  {
   "cell_type": "markdown",
   "metadata": {},
   "source": [
    "# Parameters:\n",
    "\n",
    "The parameters in the cell below are tagged with the label \"parameters\" and can be adjusted externally e.g. with a Papermill script to perform hyperparameter optimization."
   ]
  },
  {
   "cell_type": "code",
   "execution_count": 2,
   "metadata": {
    "tags": [
     "parameters"
    ]
   },
   "outputs": [],
   "source": [
    "ML_SR = 8000 # Target sampling rate\n",
    "SPECD_FFT_LEN =  512 # Real FFT length (in the M4F - we use double of this on the PC as we don't do single-sided)\n",
    "ML_BIN_AGG = 14 # Number of frequency bins (vertical dimension)\n",
    "ML_FLO = 600 # Low freq\n",
    "ML_FHI = 1400 # High freq\n",
    "ML_FFT_STRIDE=1024 # Stride length in audio samples\n",
    "ML_NUM_FFT_STRIDES = 12 # How many strides make up a sample\n",
    "FILEPREFIX = \"templateMaker003_002\" # what to save the output files as\n",
    "THRESHOLDED = False # Threshold the template or not"
   ]
  },
  {
   "cell_type": "code",
   "execution_count": 3,
   "metadata": {},
   "outputs": [],
   "source": [
    "import librosa\n",
    "import pylab\n",
    "import numpy as np"
   ]
  },
  {
   "cell_type": "markdown",
   "metadata": {},
   "source": [
    "## Window to spectral features"
   ]
  },
  {
   "cell_type": "markdown",
   "metadata": {},
   "source": [
    "This is our simple magic function that ingests a single FFT window of data and turns it into spectral patches. We use these spectral patches as \"features\". Each time it is called it makes a \"column\" of the spectral image, with height NUMBINS.\n",
    "\n",
    "We use a single-sided FFT as it takes up less space on the microcontroller by exploiting FFT symmetry. We simply aggregate the FFT bins together.\n",
    "\n",
    "NB: There are numerous optimizations that could be done here:\n",
    "* Use a smaller FFT (e.g. 128), run it 4x and aggregate along the temporal dimension\n",
    "* Rather than computing the whole FFT and discarding most of it, compute the explicit DFT products for each filter band e.g. using something like the Goertzel algorithm\n",
    "* Use a FIR/IIR filter as a bandpass filter to extract the spectral magnitude"
   ]
  },
  {
   "cell_type": "code",
   "execution_count": 4,
   "metadata": {},
   "outputs": [],
   "source": [
    "def chunkToBinsFixed(chunk,fLo,fHi,numbins,sr):\n",
    "    \"\"\"convert a chunk (window) to spectral image.\n",
    "    Provide the low and high frequencies in Hz for a spectral windowing\n",
    "    numbins are the number of output bins between flo and fhi\n",
    "    Provide the sample rate in Hz\"\"\"\n",
    "    CMPLX_FFT_LEN = len(chunk)*2\n",
    "    fS = np.fft.fft(chunk,n=CMPLX_FFT_LEN) # fft - note we double it for the cmplx fft\n",
    "    fRes = sr/(CMPLX_FFT_LEN)   # frequency per cmplx bin\n",
    "    # Find the bin indices - map from frequency to FFT index\n",
    "    binLo = int(fLo/sr*CMPLX_FFT_LEN)\n",
    "    binHi = int(fHi/sr*CMPLX_FFT_LEN)\n",
    "    specSize = int((binHi-binLo)/numbins)\n",
    "    binTotals = np.zeros(numbins)\n",
    "    for k in range(numbins):\n",
    "        dbSum = 0\n",
    "        for j in range(specSize):\n",
    "            idx = binLo + (k * specSize) + j # NB not numbins!\n",
    "            # Convert complex magnitude to absolute value\n",
    "            absVal = np.abs(fS[idx])\n",
    "            # We add an offset so we don't take log of tiny numbers. We can explore what a sensible offset is - 1.0 is probably too high.\n",
    "            absVal += 1.0 \n",
    "            # Convert to \"power\" by taking log\n",
    "            dbVal = np.log(absVal) # NB natural (not log10) base!\n",
    "            # Add up all the \"powers\" - again, this is probably not \"correct\", but we are just trying to work out some useful input features\n",
    "            dbSum += dbVal\n",
    "        binTotals[k] = dbSum\n",
    "    return binTotals"
   ]
  },
  {
   "cell_type": "markdown",
   "metadata": {},
   "source": [
    "# Step 1: Example\n",
    "\n",
    "We load and plot a random sample."
   ]
  },
  {
   "cell_type": "markdown",
   "metadata": {},
   "source": [
    "## Wavefile to spectral image\n",
    "\n",
    "This ingests a wavefile and outputs a spectral image of the correct dimensions (ML_BIN_AGG x ML_NUM_FFT_STRIDES). Because we use a sliding window on the Caracal, we start computing this spectral image at a random offset position. \n",
    "\n",
    "We optionally:\n",
    "- Threshold the input spectral bins to ensure they are strictly positive (which they normally are)\n",
    "- Scale (normalize) each spectral image to lie between [0,1]. This per-frame normalization helps to deal with the wide dynamic range encountered in the field.\n",
    "\n",
    "Improvements:\n",
    "- Rather than just using each sample once with a random offset, we could repeatedly call this function for each sample N times, building an augmented dataset"
   ]
  },
  {
   "cell_type": "code",
   "execution_count": 5,
   "metadata": {},
   "outputs": [
    {
     "data": {
      "text/plain": [
       "'\\ndef wavFileToSpecImg(fullfilename,num_strides,target_sr=8000,THRESHOLDED=True,SCALED=True):\\n    aud,sr = librosa.load(fullfilename,sr=target_sr)\\n    tList = []\\n    for idx in range(0,num_strides*ML_FFT_STRIDE,int(ML_FFT_STRIDE)):\\n        clip = aud[idx:idx+SPECD_FFT_LEN]\\n        q = chunkToBinsFixed(clip,ML_FLO,ML_FHI,ML_BIN_AGG,ML_SR)\\n        tList.append(q)\\n    tList = np.array(tList)\\n    # Thresholding\\n    if THRESHOLDED:\\n        tList = (tList >0)*tList\\n    if SCALED:\\n        # Scale the dB mag spec to +1/-1\\n        maxVal = np.max(tList)\\n        minVal = np.min(tList)\\n        tList = (tList-minVal)/(maxVal-minVal)\\n    return np.array(tList)\\n'"
      ]
     },
     "execution_count": 5,
     "metadata": {},
     "output_type": "execute_result"
    }
   ],
   "source": [
    "\n",
    "# With random\n",
    "def wavFileToSpecImg(fullfilename,num_strides,target_sr=8000,random_offset=4000,THRESHOLDED=True,SCALED=True):\n",
    "    aud,sr = librosa.load(fullfilename,sr=target_sr)\n",
    "    tList = []\n",
    "    startIdx = int(np.random.uniform(random_offset))\n",
    "    for idx in range(0,num_strides*ML_FFT_STRIDE,int(ML_FFT_STRIDE)):\n",
    "        clip = aud[idx+startIdx:idx+startIdx+SPECD_FFT_LEN]\n",
    "        q = chunkToBinsFixed(clip,ML_FLO,ML_FHI,ML_BIN_AGG,ML_SR)\n",
    "        tList.append(q)\n",
    "    tList = np.array(tList)\n",
    "    # Thresholding\n",
    "    if THRESHOLDED:\n",
    "        tList = (tList >0)*tList\n",
    "    if SCALED:\n",
    "        # Scale the dB mag spec to +1/-1\n",
    "        maxVal = np.max(tList)\n",
    "        minVal = np.min(tList)\n",
    "        tList = (tList-minVal)/(maxVal-minVal)\n",
    "    return np.array(tList)\n",
    "\n",
    "\n",
    "# Without random\n",
    "'''\n",
    "def wavFileToSpecImg(fullfilename,num_strides,target_sr=8000,THRESHOLDED=True,SCALED=True):\n",
    "    aud,sr = librosa.load(fullfilename,sr=target_sr)\n",
    "    tList = []\n",
    "    for idx in range(0,num_strides*ML_FFT_STRIDE,int(ML_FFT_STRIDE)):\n",
    "        clip = aud[idx:idx+SPECD_FFT_LEN]\n",
    "        q = chunkToBinsFixed(clip,ML_FLO,ML_FHI,ML_BIN_AGG,ML_SR)\n",
    "        tList.append(q)\n",
    "    tList = np.array(tList)\n",
    "    # Thresholding\n",
    "    if THRESHOLDED:\n",
    "        tList = (tList >0)*tList\n",
    "    if SCALED:\n",
    "        # Scale the dB mag spec to +1/-1\n",
    "        maxVal = np.max(tList)\n",
    "        minVal = np.min(tList)\n",
    "        tList = (tList-minVal)/(maxVal-minVal)\n",
    "    return np.array(tList)\n",
    "'''"
   ]
  },
  {
   "cell_type": "markdown",
   "metadata": {},
   "source": [
    "We can plot a 3x3 grid of randomly drawn samples from each category to show what these spectral images look like"
   ]
  },
  {
   "cell_type": "code",
   "execution_count": 6,
   "metadata": {},
   "outputs": [
    {
     "data": {
      "image/png": "[encoded data removed]",
      "text/plain": [
       "<Figure size 800x800 with 9 Axes>"
      ]
     },
     "metadata": {},
     "output_type": "display_data"
    }
   ],
   "source": [
    "import random\n",
    "import os\n",
    "\n",
    "# Max sampling index\n",
    "MAX_INDEX = 100\n",
    "\n",
    "def select_random_files(prefix, max_index, num_files=3):\n",
    "    indices = random.sample(range(max_index + 1), num_files)\n",
    "    filenames = [f\"{prefix}_{index:06d}.wav\" for index in indices]\n",
    "    return filenames\n",
    "\n",
    "\n",
    "def create_tiled_subplots(max_index):\n",
    "    prefixes = [\"POS\", \"CON\", \"NEG\"]\n",
    "    fig, axes = pylab.subplots(3, 3, figsize=(8, 8))\n",
    "\n",
    "    for i, prefix in enumerate(prefixes):\n",
    "        filenames = select_random_files(prefix, max_index)\n",
    "        full_filenames = [os.path.join(DATASET_DIRECTORY,f) for f in filenames]\n",
    "        for j, filename in enumerate(full_filenames):\n",
    "            image = wavFileToSpecImg(filename,num_strides=ML_NUM_FFT_STRIDES)\n",
    "            ax = axes[i, j]\n",
    "            ax.imshow(image, aspect='auto', cmap='viridis')\n",
    "            ax.set_title(f\"{prefix}_{j + 1}\")\n",
    "            ax.axis('off')\n",
    "    \n",
    "    pylab.tight_layout()\n",
    "    pylab.show()\n",
    "\n",
    "# Main code\n",
    "create_tiled_subplots(MAX_INDEX)"
   ]
  },
  {
   "cell_type": "code",
   "execution_count": 7,
   "metadata": {},
   "outputs": [],
   "source": [
    "# This is a helper function to turn a given spectral image into a flattened C array. This is useful for checking that the CNN on the Caracal actually works\n",
    "def specImg2C(specImg):\n",
    "    flatty = specImg.flatten(order='C')\n",
    "    print(f\"const float32_t sample_buffer [{np.shape(flatty)[0]}]={{\") \n",
    "    for k in range(len(flatty)):\n",
    "        if k < (len(flatty))-1:\n",
    "            print(f\"{flatty[k]},\")\n",
    "        else:\n",
    "            print(f\"{flatty[k]}}};\")"
   ]
  },
  {
   "cell_type": "markdown",
   "metadata": {},
   "source": [
    "# Main machine learning loop\n",
    "\n",
    "### Step 1: Load and convert wavefiles to spectral images"
   ]
  },
  {
   "cell_type": "code",
   "execution_count": 8,
   "metadata": {},
   "outputs": [],
   "source": [
    "import os\n",
    "import numpy as np\n",
    "import matplotlib.pyplot as plt\n",
    "from sklearn.ensemble import RandomForestClassifier\n",
    "from sklearn.model_selection import train_test_split\n",
    "from sklearn.metrics import confusion_matrix, ConfusionMatrixDisplay,roc_curve, roc_auc_score\n",
    "\n",
    "\n",
    "# Step 1: Load images and labels\n",
    "def load_images_and_labels(data_dir):\n",
    "    images = []\n",
    "    labels = []\n",
    "    \n",
    "    for filename in os.listdir(data_dir):\n",
    "        if filename.startswith(\"POS\"):\n",
    "            label = 1\n",
    "        elif filename.startswith(\"NEG\") or filename.startswith(\"CON\"):\n",
    "        #elif filename.startswith(\"CON\"):\n",
    "            label = 0\n",
    "        else:\n",
    "            continue\n",
    "        \n",
    "        file_path = os.path.join(data_dir, filename)\n",
    "        clipImg = wavFileToSpecImg(file_path,num_strides=ML_NUM_FFT_STRIDES)\n",
    "        images.append(clipImg)\n",
    "        labels.append(label)\n",
    "    \n",
    "    return np.array(images), np.array(labels)\n",
    "\n",
    "images,labels= load_images_and_labels(DATASET_DIRECTORY)"
   ]
  },
  {
   "cell_type": "markdown",
   "metadata": {},
   "source": [
    "### Step 2: Reshape to the expected tensor size"
   ]
  },
  {
   "cell_type": "code",
   "execution_count": 9,
   "metadata": {},
   "outputs": [],
   "source": [
    "# Step 2: Preprocess images\n",
    "\n",
    "def preprocess_images(images):\n",
    "    # Reshape to (num_samples, height, width, channels)\n",
    "    return images.reshape(images.shape[0], images.shape[1], images.shape[2], 1)\n",
    "\n",
    "images = preprocess_images(images)"
   ]
  },
  {
   "cell_type": "markdown",
   "metadata": {},
   "source": [
    "### Step 3\n",
    "Store all X and Y data i"
   ]
  },
  {
   "cell_type": "code",
   "execution_count": 10,
   "metadata": {},
   "outputs": [],
   "source": [
    "import pickle\n",
    "with open('all_data.pkl', 'wb') as f:\n",
    "    pickle.dump((images, labels), f)"
   ]
  }
 ],
 "metadata": {
  "kernelspec": {
   "display_name": "Python 3 (ipykernel)",
   "language": "python",
   "name": "python3"
  },
  "language_info": {
   "codemirror_mode": {
    "name": "ipython",
    "version": 3
   },
   "file_extension": ".py",
   "mimetype": "text/x-python",
   "name": "python",
   "nbconvert_exporter": "python",
   "pygments_lexer": "ipython3",
   "version": "3.12.4"
  }
 },
 "nbformat": 4,
 "nbformat_minor": 4
}
